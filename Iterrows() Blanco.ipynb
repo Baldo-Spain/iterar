{
 "cells": [
  {
   "cell_type": "markdown",
   "id": "d45fc6cd",
   "metadata": {},
   "source": [
    "<div style=\"background-color:rgba(200, 200, 460, 1); text-align:center; vertical-align: middle; padding:40px 0;\">\n",
    "<font size = \"40\"> Iterar un DataFrame </font>\n",
    "</div>\n"
   ]
  },
  {
   "cell_type": "markdown",
   "id": "52519470",
   "metadata": {},
   "source": [
    "#### 1) Crear una columna de texto en mayúsculas mediante iteración partiendo de otra columna de texto.\n",
    "#### 2) Crear una columna que calcule el producto de dos columnas mediante iteración.\n",
    "#### 3) Crear una columna utilizando condicional mediante iteración."
   ]
  },
  {
   "cell_type": "markdown",
   "id": "27566796",
   "metadata": {},
   "source": [
    "### Importar Pandas"
   ]
  },
  {
   "cell_type": "code",
   "execution_count": null,
   "id": "35c8d299",
   "metadata": {},
   "outputs": [],
   "source": []
  },
  {
   "cell_type": "markdown",
   "id": "5c5e3df5",
   "metadata": {},
   "source": [
    "### Leer archivo \"champagne.csv\"\n",
    "\n",
    "En una tienda varios clientes compran botellas de chanpagne para celebrar las fiestas. \n",
    "\n",
    "Llamaremos al archivo **df_licor**"
   ]
  },
  {
   "cell_type": "code",
   "execution_count": null,
   "id": "aeb5bcd6",
   "metadata": {},
   "outputs": [],
   "source": []
  },
  {
   "cell_type": "markdown",
   "id": "ae7b4996",
   "metadata": {},
   "source": [
    "### Mostrar archivo"
   ]
  },
  {
   "cell_type": "code",
   "execution_count": null,
   "id": "d644c224",
   "metadata": {},
   "outputs": [],
   "source": []
  },
  {
   "cell_type": "markdown",
   "id": "5a78e273",
   "metadata": {},
   "source": [
    "## 1) Crear una columna de texto en mayúsculas mediante iteración partiendo de otra columna de texto.\n",
    "Los nombres de los clientes deben aparecer en una columna nueva con todas sus letras en mayúsculas."
   ]
  },
  {
   "cell_type": "markdown",
   "id": "d09c80fc",
   "metadata": {},
   "source": [
    "<img src=\"Iterrows.png\">"
   ]
  },
  {
   "cell_type": "code",
   "execution_count": null,
   "id": "e9dad68d",
   "metadata": {},
   "outputs": [],
   "source": []
  },
  {
   "cell_type": "markdown",
   "id": "bc196ee1",
   "metadata": {},
   "source": [
    "### Mostrar el DataFrame df_licor"
   ]
  },
  {
   "cell_type": "code",
   "execution_count": null,
   "id": "05f92941",
   "metadata": {},
   "outputs": [],
   "source": []
  },
  {
   "cell_type": "markdown",
   "id": "961f4361",
   "metadata": {},
   "source": [
    "## 2) Crear una columna que calcule el producto de dos columnas mediante iteración\n",
    "\n",
    "A la nueva columna la llamaremos Subtotal y sera el producto de la columna unidades * la columna precio."
   ]
  },
  {
   "cell_type": "markdown",
   "id": "32f92e04",
   "metadata": {},
   "source": [
    "<img src=\"Iterrows2.png\">"
   ]
  },
  {
   "cell_type": "code",
   "execution_count": null,
   "id": "9e735a74",
   "metadata": {},
   "outputs": [],
   "source": []
  },
  {
   "cell_type": "markdown",
   "id": "10fa41c2",
   "metadata": {},
   "source": [
    "### Mostrar el DataFrame df_licor"
   ]
  },
  {
   "cell_type": "code",
   "execution_count": null,
   "id": "e84a7e44",
   "metadata": {},
   "outputs": [],
   "source": []
  },
  {
   "cell_type": "markdown",
   "id": "936cebef",
   "metadata": {},
   "source": [
    "## 3) Crear tres columnas mediante iteración en funcion de una condición dada."
   ]
  },
  {
   "cell_type": "markdown",
   "id": "30bcb5c8",
   "metadata": {},
   "source": [
    "Si el Subtotal es mayor de 2500 Euros, aplicaremos un descuento del 20%  (En caso contrario NO hay descuento) y crearemos tres columnas: \n",
    "- 1) Columna \"Desc\", con el % del descuento aplicable, es decir 20%.\n",
    "- 2) Columna \"Total Desc\", con la cantidad a descontar\n",
    "- 3) Columna \"Total a Pagar\""
   ]
  },
  {
   "cell_type": "markdown",
   "id": "e904813d",
   "metadata": {},
   "source": [
    "<img src=\"Iterrows3.png\">"
   ]
  },
  {
   "cell_type": "code",
   "execution_count": null,
   "id": "d86ed617",
   "metadata": {},
   "outputs": [],
   "source": [
    "       "
   ]
  },
  {
   "cell_type": "code",
   "execution_count": null,
   "id": "d215145d",
   "metadata": {},
   "outputs": [],
   "source": []
  },
  {
   "cell_type": "code",
   "execution_count": null,
   "id": "8099c782",
   "metadata": {},
   "outputs": [],
   "source": []
  }
 ],
 "metadata": {
  "kernelspec": {
   "display_name": "Python 3 (ipykernel)",
   "language": "python",
   "name": "python3"
  },
  "language_info": {
   "codemirror_mode": {
    "name": "ipython",
    "version": 3
   },
   "file_extension": ".py",
   "mimetype": "text/x-python",
   "name": "python",
   "nbconvert_exporter": "python",
   "pygments_lexer": "ipython3",
   "version": "3.9.7"
  }
 },
 "nbformat": 4,
 "nbformat_minor": 5
}
